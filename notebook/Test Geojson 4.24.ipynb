{
 "cells": [
  {
   "cell_type": "code",
   "execution_count": 1,
   "metadata": {},
   "outputs": [
    {
     "name": "stdout",
     "output_type": "stream",
     "text": [
      "Pixiedust database opened successfully\n"
     ]
    },
    {
     "data": {
      "text/html": [
       "\n",
       "        <div style=\"margin:10px\">\n",
       "            <a href=\"https://github.com/ibm-watson-data-lab/pixiedust\" target=\"_new\">\n",
       "                <img src=\"https://github.com/ibm-watson-data-lab/pixiedust/raw/master/docs/_static/pd_icon32.png\" style=\"float:left;margin-right:10px\"/>\n",
       "            </a>\n",
       "            <span>Pixiedust version 1.1.9</span>\n",
       "        </div>\n",
       "        "
      ],
      "text/plain": [
       "<IPython.core.display.HTML object>"
      ]
     },
     "metadata": {},
     "output_type": "display_data"
    }
   ],
   "source": [
    "import pixiedust"
   ]
  },
  {
   "cell_type": "code",
   "execution_count": 2,
   "metadata": {
    "collapsed": true
   },
   "outputs": [],
   "source": [
    "gjson = { \"type\": \"FeatureCollection\",\n",
    "    \"features\": [\n",
    "      { \"type\": \"Feature\",\n",
    "        \"geometry\": {\"type\": \"Point\", \"coordinates\": [102.0, 0.5]},\n",
    "        \"properties\": {\"prop0\": \"value0\"}\n",
    "        },\n",
    "      { \"type\": \"Feature\",\n",
    "        \"geometry\": {\n",
    "          \"type\": \"LineString\",\n",
    "          \"coordinates\": [\n",
    "            [102.0, 0.0], [103.0, 1.0], [104.0, 0.0], [105.0, 1.0]\n",
    "            ]\n",
    "          },\n",
    "        \"properties\": {\n",
    "          \"prop0\": \"value0\",\n",
    "          \"prop1\": 0.0\n",
    "          }\n",
    "        },\n",
    "      { \"type\": \"Feature\",\n",
    "         \"geometry\": {\n",
    "           \"type\": \"Polygon\",\n",
    "           \"coordinates\": [\n",
    "             [ [100.0, 0.0], [101.0, 0.0], [101.0, 1.0],\n",
    "               [100.0, 1.0], [100.0, 0.0] ]\n",
    "             ]\n",
    "         },\n",
    "         \"properties\": {\n",
    "           \"prop0\": \"value0\",\n",
    "           \"prop1\": {\"this\": \"that\"}\n",
    "           }\n",
    "         }\n",
    "       ]\n",
    "     }"
   ]
  },
  {
   "cell_type": "code",
   "execution_count": null,
   "metadata": {
    "pixiedust": {
     "displayParams": {
      "handlerId": "tableView"
     }
    }
   },
   "outputs": [
    {
     "data": {
      "text/html": [
       "<style type=\"text/css\">.pd_warning{display:none;}</style><div class=\"pd_warning\"><em>Hey, there's something awesome here! To see it, open this notebook outside GitHub, in a viewer like Jupyter</em></div>"
      ],
      "text/plain": [
       "<IPython.core.display.HTML object>"
      ]
     },
     "metadata": {
      "pixieapp_metadata": null
     },
     "output_type": "display_data"
    }
   ],
   "source": [
    "display(gjson)"
   ]
  },
  {
   "cell_type": "code",
   "execution_count": null,
   "metadata": {
    "collapsed": true
   },
   "outputs": [],
   "source": []
  }
 ],
 "metadata": {
  "kernelspec": {
   "display_name": "Python 2",
   "language": "python",
   "name": "python2"
  },
  "language_info": {
   "codemirror_mode": {
    "name": "ipython",
    "version": 2
   },
   "file_extension": ".py",
   "mimetype": "text/x-python",
   "name": "python",
   "nbconvert_exporter": "python",
   "pygments_lexer": "ipython2",
   "version": "2.7.14"
  }
 },
 "nbformat": 4,
 "nbformat_minor": 2
}
